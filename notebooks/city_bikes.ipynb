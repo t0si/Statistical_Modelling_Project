{
 "cells": [
  {
   "cell_type": "markdown",
   "metadata": {},
   "source": [
    "# CityBikes"
   ]
  },
  {
   "cell_type": "markdown",
   "metadata": {},
   "source": [
    "Send a request to CityBikes for the city of your choice. "
   ]
  },
  {
   "cell_type": "code",
   "execution_count": 1,
   "metadata": {},
   "outputs": [],
   "source": [
    "import requests\n",
    "import pandas as pd"
   ]
  },
  {
   "cell_type": "code",
   "execution_count": null,
   "metadata": {},
   "outputs": [],
   "source": [
    "# Get CityBike stations from the API\n",
    "def get_citybike_stations():\n",
    "\n",
    "    url = \"http://api.citybik.es/v2/networks/bikesampa\"\n",
    "    params = {\n",
    "        \"fields\": \"stations.extra.uid,stations.latitude,stations.longitude,stations.free_bikes\",\n",
    "    }\n",
    "    response = requests.get(url, params=params)\n",
    "\n",
    "    if response.status_code == 200:\n",
    "        data = response.json()\n",
    "        stations = data['network']['stations']\n",
    "        \n",
    "        \n",
    "        for station in stations:\n",
    "            station['uid'] = station['extra']['uid']\n",
    "        \n",
    "        \n",
    "        return pd.DataFrame(stations, columns=['uid', 'latitude', 'longitude', 'free_bikes'])\n",
    "    else:\n",
    "        print(f\"CityBike API Error: {response.status_code}\")\n",
    "        print(f\"Response Text: {response.text}\")\n",
    "        return pd.DataFrame()  "
   ]
  },
  {
   "cell_type": "markdown",
   "metadata": {},
   "source": [
    "Parse through the response to get the details you want for the bike stations in that city (latitude, longitude, number of bikes). "
   ]
  },
  {
   "cell_type": "markdown",
   "metadata": {},
   "source": [
    "Put your parsed results into a DataFrame."
   ]
  },
  {
   "cell_type": "code",
   "execution_count": null,
   "metadata": {},
   "outputs": [
    {
     "name": "stdout",
     "output_type": "stream",
     "text": [
      "     uid   latitude  longitude  free_bikes\n",
      "0    204 -23.556727 -46.664197           0\n",
      "1      7 -23.572544 -46.693681          12\n",
      "2    592 -23.599550 -46.690740          12\n",
      "3    556 -23.596440 -46.688550           4\n",
      "4     14 -23.580880 -46.684709           8\n",
      "..   ...        ...        ...         ...\n",
      "235  317 -23.598733 -46.639103           0\n",
      "236   76 -23.574298 -46.654040           2\n",
      "237  131 -23.593685 -46.660042           3\n",
      "238  215 -23.559442 -46.678456           1\n",
      "239   95 -23.568159 -46.648978           1\n",
      "\n",
      "[240 rows x 4 columns]\n"
     ]
    }
   ],
   "source": [
    "df_citybike = get_citybike_stations()\n",
    "\n",
    "df_citybike.to_csv('/home/t0si/citybike.csv', index=False)\n",
    "print(df_citybike)"
   ]
  }
 ],
 "metadata": {
  "kernelspec": {
   "display_name": "test_env",
   "language": "python",
   "name": "test_env"
  },
  "language_info": {
   "codemirror_mode": {
    "name": "ipython",
    "version": 3
   },
   "file_extension": ".py",
   "mimetype": "text/x-python",
   "name": "python",
   "nbconvert_exporter": "python",
   "pygments_lexer": "ipython3",
   "version": "3.12.7"
  }
 },
 "nbformat": 4,
 "nbformat_minor": 4
}
