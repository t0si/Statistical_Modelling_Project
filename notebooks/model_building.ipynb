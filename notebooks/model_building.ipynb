{
 "cells": [
  {
   "cell_type": "markdown",
   "metadata": {},
   "source": [
    "Build a regression model."
   ]
  },
  {
   "cell_type": "code",
   "execution_count": null,
   "metadata": {},
   "outputs": [
    {
     "name": "stdout",
     "output_type": "stream",
     "text": [
      "                            OLS Regression Results                            \n",
      "==============================================================================\n",
      "Dep. Variable:                 rating   R-squared:                       0.021\n",
      "Model:                            OLS   Adj. R-squared:                  0.017\n",
      "Method:                 Least Squares   F-statistic:                     5.086\n",
      "Date:                Mon, 18 Nov 2024   Prob (F-statistic):           0.000468\n",
      "Time:                        21:18:00   Log-Likelihood:                -799.01\n",
      "No. Observations:                 935   AIC:                             1608.\n",
      "Df Residuals:                     930   BIC:                             1632.\n",
      "Df Model:                           4                                         \n",
      "Covariance Type:            nonrobust                                         \n",
      "================================================================================\n",
      "                   coef    std err          t      P>|t|      [0.025      0.975]\n",
      "--------------------------------------------------------------------------------\n",
      "const            3.8512      0.068     56.812      0.000       3.718       3.984\n",
      "distance         0.0012      0.000      4.063      0.000       0.001       0.002\n",
      "price            0.0068      0.023      0.295      0.768      -0.039       0.052\n",
      "review_count     0.0017      0.002      1.094      0.274      -0.001       0.005\n",
      "free_bikes      -0.0032      0.003     -0.998      0.319      -0.010       0.003\n",
      "==============================================================================\n",
      "Omnibus:                       64.128   Durbin-Watson:                   1.797\n",
      "Prob(Omnibus):                  0.000   Jarque-Bera (JB):               80.697\n",
      "Skew:                          -0.611   Prob(JB):                     3.00e-18\n",
      "Kurtosis:                       3.759   Cond. No.                         592.\n",
      "==============================================================================\n",
      "\n",
      "Notes:\n",
      "[1] Standard Errors assume that the covariance matrix of the errors is correctly specified.\n"
     ]
    }
   ],
   "source": [
    "import pandas as pd\n",
    "import statsmodels.api as sm\n",
    "\n",
    "\n",
    "merged_df = pd.read_csv('/home/t0si/Statistical_Modelling_Project/data/merged_data.csv')\n",
    "\n",
    "\n",
    "data = merged_df[['rating', 'distance', 'price', 'review_count', 'free_bikes']].dropna()\n",
    "data = data[(data['price'] > 0) & (data['review_count'] > 0)]\n",
    "\n",
    "\n",
    "X = data[['distance', 'price', 'review_count', 'free_bikes']]\n",
    "y = data['rating']\n",
    "\n",
    "\n",
    "X = sm.add_constant(X)\n",
    "\n",
    "\n",
    "model = sm.OLS(y, X)\n",
    "results = model.fit()\n",
    "\n",
    "\n",
    "print(results.summary())"
   ]
  },
  {
   "cell_type": "markdown",
   "metadata": {},
   "source": [
    "Provide model output and an interpretation of the results. "
   ]
  },
  {
   "cell_type": "markdown",
   "metadata": {},
   "source": [
    "The model has a very low R², explaining only 2.1% of the variance in rating. This indicates the predictors are not strong drivers of the dependent variable.\n",
    "The model shows that the factors studied have little impact on ratings, with only distance having a small, likely insignificant effect, and the results may not be fully reliable.\n",
    "\n",
    "\n"
   ]
  },
  {
   "cell_type": "markdown",
   "metadata": {},
   "source": [
    "# Stretch"
   ]
  },
  {
   "cell_type": "markdown",
   "metadata": {},
   "source": [
    "How can you turn the regression model into a classification model?"
   ]
  },
  {
   "cell_type": "markdown",
   "metadata": {},
   "source": [
    "To turn the regression model into a classification model, I would need to transform the rating data and divide the ratings into categories. One option would be to classify them as low, medium, or high. This approach would enable the classification model to predict categories instead of the actual ratings."
   ]
  }
 ],
 "metadata": {
  "kernelspec": {
   "display_name": "test_env",
   "language": "python",
   "name": "test_env"
  },
  "language_info": {
   "codemirror_mode": {
    "name": "ipython",
    "version": 3
   },
   "file_extension": ".py",
   "mimetype": "text/x-python",
   "name": "python",
   "nbconvert_exporter": "python",
   "pygments_lexer": "ipython3",
   "version": "3.12.7"
  }
 },
 "nbformat": 4,
 "nbformat_minor": 4
}
