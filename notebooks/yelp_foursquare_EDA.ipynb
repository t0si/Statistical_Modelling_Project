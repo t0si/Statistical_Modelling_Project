{
 "cells": [
  {
   "cell_type": "code",
   "execution_count": null,
   "metadata": {},
   "outputs": [],
   "source": [
    "import requests\n",
    "import pandas as pd"
   ]
  },
  {
   "cell_type": "markdown",
   "metadata": {},
   "source": [
    "# Foursquare"
   ]
  },
  {
   "cell_type": "markdown",
   "metadata": {},
   "source": [
    "Send a request to Foursquare with a small radius (1000m) for all the bike stations in your city of choice. "
   ]
  },
  {
   "cell_type": "code",
   "execution_count": null,
   "metadata": {},
   "outputs": [],
   "source": [
    "# Get CityBike stations from the API\n",
    "def get_citybike_stations():\n",
    "    \"\"\"\n",
    "    Fetch station data from the CityBike API.\n",
    "    Returns:\n",
    "        pd.DataFrame: DataFrame containing station data with uid, latitude, longitude, and free_bikes.\n",
    "    \"\"\"\n",
    "    url = \"http://api.citybik.es/v2/networks/bikesampa\"\n",
    "    params = {\n",
    "        \"fields\": \"stations.extra.uid,stations.latitude,stations.longitude,stations.free_bikes\",\n",
    "    }\n",
    "    response = requests.get(url, params=params)\n",
    "    \n",
    "    if response.status_code == 200:\n",
    "        data = response.json()\n",
    "        stations = data['network']['stations']\n",
    "        \n",
    "        for station in stations:\n",
    "            station['uid'] = station['extra']['uid']\n",
    "        \n",
    "        return pd.DataFrame(stations, columns=['uid', 'latitude', 'longitude', 'free_bikes'])\n",
    "    else:\n",
    "        print(f\"CityBike API Error: {response.status_code}\")\n",
    "        print(f\"Response Text: {response.text}\")\n",
    "        return pd.DataFrame()\n",
    "\n",
    "# Get POIs with /places/search\n",
    "def get_foursquare_pois(lat, lon, category, radius=200):\n",
    "    url = \"https://api.foursquare.com/v3/places/search\"\n",
    "    headers = {\n",
    "        \"Accept\": \"application/json\",\n",
    "        \"Authorization\": \"xxx\"  \n",
    "    }\n",
    "    params = {\n",
    "        \"ll\": f\"{lat},{lon}\",\n",
    "        \"radius\": radius,\n",
    "        \"categories\": category,\n",
    "        \"limit\": 10\n",
    "    }\n",
    "    response = requests.get(url, headers=headers, params=params, timeout=10)\n",
    "    \n",
    "    if response.status_code == 200:\n",
    "        return response.json().get('results', [])\n",
    "    else:\n",
    "        print(f\"Foursquare API Error: {response.status_code}\")\n",
    "        print(f\"Response Text: {response.text}\")\n",
    "        return []\n",
    "\n",
    "# Get detailed information for each POI using /details\n",
    "def get_foursquare_details(fsq_id):\n",
    "    url = f\"https://api.foursquare.com/v3/places/{fsq_id}\"\n",
    "    headers = {\n",
    "        \"Accept\": \"application/json\",\n",
    "        \"Authorization\": \"xxx\"  \n",
    "    }\n",
    "    response = requests.get(url, headers=headers, timeout=10)\n",
    "    \n",
    "    if response.status_code == 200:\n",
    "        return response.json()  \n",
    "    else:\n",
    "        print(f\"Details request failed for POI {fsq_id}: {response.status_code}\")\n",
    "        print(f\"Response Text: {response.text}\")\n",
    "        return {}\n",
    "\n"
   ]
  },
  {
   "cell_type": "markdown",
   "metadata": {},
   "source": [
    "Parse through the response to get the POI (such as restaurants, bars, etc) details you want (ratings, name, location, etc)"
   ]
  },
  {
   "cell_type": "code",
   "execution_count": null,
   "metadata": {},
   "outputs": [],
   "source": [
    "def get_combined_pois(lat, lon, category):\n",
    "    pois = get_foursquare_pois(lat, lon, category)\n",
    "    combined_pois = []\n",
    "    \n",
    "    for poi in pois:\n",
    "        fsq_id = poi.get('fsq_id')\n",
    "        details = get_foursquare_details(fsq_id)  \n",
    "        print(poi)  \n",
    "            \n",
    "        combined_pois.append({\n",
    "            'fsq_id': fsq_id,\n",
    "            'name': poi.get('name'),\n",
    "            'distance': poi.get('distance'),\n",
    "            'rating': details.get('rating'),\n",
    "            'popularity': details.get('popularity'),\n",
    "            'price': details.get('price'),\n",
    "            'hours': details.get('hours', {}).get('display') if details.get('hours') else None,\n",
    "            'hours_popular': details.get('hours_popular')\n",
    "        })\n",
    "    \n",
    "    return combined_pois\n",
    "\n",
    "# Get data for all CityBike stations\n",
    "categories_foursquare = {\n",
    "    'restaurants': '13065',\n",
    "    'coffee shops': '13032',\n",
    "    'bakeries': '13002'\n",
    "}"
   ]
  },
  {
   "cell_type": "markdown",
   "metadata": {},
   "source": [
    "Put your parsed results into a DataFrame"
   ]
  },
  {
   "cell_type": "code",
   "execution_count": null,
   "metadata": {},
   "outputs": [],
   "source": [
    "citybike_df = get_citybike_stations()\n",
    "\n",
    "if citybike_df.empty:\n",
    "    print(\"No CityBike data available. Exiting.\")\n",
    "else:\n",
    "    combined_data = []\n",
    "\n",
    "    for _, station in citybike_df.iterrows():\n",
    "        lat, lon, uid = station['latitude'], station['longitude'], station['uid']\n",
    "        \n",
    "        for category_name, category_id in categories_foursquare.items():\n",
    "            pois = get_combined_pois(lat, lon, category_id)\n",
    "            for poi in pois:\n",
    "                combined_data.append({\n",
    "                    'station_id': uid,\n",
    "                    'fsq_id': poi.get('fsq_id'),\n",
    "                    'name': poi.get('name'),\n",
    "                    'distance': poi.get('distance'),\n",
    "                    'rating': poi.get('rating'),\n",
    "                    'popularity': poi.get('popularity'),\n",
    "                    'price': poi.get('price'),\n",
    "                    'hours': poi.get('hours'),\n",
    "                    'hours_popular': poi.get('hours_popular'),\n",
    "                    'category': category_name\n",
    "                })\n",
    "\n",
    "    combined_df = pd.DataFrame(combined_data)\n",
    "\n",
    "    print(citybike_df)\n",
    "\n",
    "    print(combined_df)\n"
   ]
  },
  {
   "cell_type": "markdown",
   "metadata": {},
   "source": [
    "# Yelp"
   ]
  },
  {
   "cell_type": "markdown",
   "metadata": {},
   "source": [
    "Send a request to Yelp with a small radius (1000m) for all the bike stations in your city of choice. "
   ]
  },
  {
   "cell_type": "code",
   "execution_count": null,
   "metadata": {},
   "outputs": [],
   "source": [
    "# Get CityBike stations from the API\n",
    "def get_citybike_stations():\n",
    "    url = \"http://api.citybik.es/v2/networks/bikesampa\"\n",
    "    params = {\n",
    "        \"fields\": \"stations.extra.uid,stations.latitude,stations.longitude,stations.free_bikes\",\n",
    "    }\n",
    "    response = requests.get(url, params=params)\n",
    "    \n",
    "    if response.status_code == 200:\n",
    "        data = response.json()\n",
    "        stations = data['network']['stations']\n",
    "        \n",
    "        for station in stations:\n",
    "            if 'extra' in station and 'uid' in station['extra']:\n",
    "                station['uid'] = station['extra']['uid']\n",
    "        \n",
    "        return pd.DataFrame(stations, columns=['uid', 'latitude', 'longitude', 'free_bikes'])\n",
    "    else:\n",
    "        print(f\"CityBike API Error: {response.status_code}\")\n",
    "        print(f\"Response Text: {response.text}\")\n",
    "        return pd.DataFrame()\n",
    "\n",
    "# Get Yelp POIs\n",
    "def get_yelp_pois(lat, lon, term, radius=200):\n",
    "    url = \"https://api.yelp.com/v3/businesses/search\"\n",
    "    headers = {\n",
    "        \"Authorization\": \"Bearer xxx\"  \n",
    "    }\n",
    "    params = {\n",
    "        \"latitude\": lat,\n",
    "        \"longitude\": lon,\n",
    "        \"radius\": radius,\n",
    "        \"categories\": term,\n",
    "        \"limit\": 10\n",
    "    }\n",
    "    print(f\"Making request to Yelp API with parameters: {params}\")\n",
    "    response = requests.get(url, headers=headers, params=params)\n",
    "    \n",
    "    if response.status_code == 200:\n",
    "        return response.json().get('businesses', [])\n",
    "    else:\n",
    "        print(f\"Yelp API Error: {response.status_code}\")\n",
    "        print(f\"Response Text: {response.text}\")\n",
    "        return []"
   ]
  },
  {
   "cell_type": "markdown",
   "metadata": {},
   "source": [
    "Parse through the response to get the POI (such as restaurants, bars, etc) details you want (ratings, name, location, etc)"
   ]
  },
  {
   "cell_type": "code",
   "execution_count": null,
   "metadata": {},
   "outputs": [],
   "source": [
    "# Define Yelp categories\n",
    "categories_yelp = ['restaurants', 'coffee', 'bakeries']\n",
    "\n",
    "# Get CityBike station data\n",
    "df_citybike = get_citybike_stations()\n",
    "\n",
    "if df_citybike.empty:\n",
    "    print(\"No CityBike data available. Exiting.\")\n",
    "else:\n",
    "# Get Yelp POIs for each CityBike station\n",
    "    yelp_data = []\n",
    "\n",
    "    for _, station in df_citybike.iterrows():\n",
    "        lat, lon, uid = station['latitude'], station['longitude'], station['uid']\n",
    "        \n",
    "        for term in categories_yelp:\n",
    "            pois = get_yelp_pois(lat, lon, term)\n",
    "            for poi in pois:\n",
    "                yelp_data.append({\n",
    "                    'station_id': uid,\n",
    "                    'poi_id': poi.get('id'),\n",
    "                    'name': poi.get('name'),\n",
    "                    'category': term,\n",
    "                    'distance': poi.get('distance'),\n",
    "                    'rating': poi.get('rating'),\n",
    "                    'review_count': poi.get('review_count'),\n",
    "                    'price': poi.get('price', None),\n",
    "                    'is_closed': poi.get('is_closed', None),\n",
    "                })\n"
   ]
  },
  {
   "cell_type": "markdown",
   "metadata": {},
   "source": [
    "Put your parsed results into a DataFrame"
   ]
  },
  {
   "cell_type": "code",
   "execution_count": null,
   "metadata": {},
   "outputs": [],
   "source": [
    "\n",
    "yelp_df = pd.DataFrame(yelp_data)\n",
    "\n",
    "\n",
    "print(df_citybike)\n",
    "print(yelp_df)\n",
    "\n"
   ]
  },
  {
   "cell_type": "markdown",
   "metadata": {},
   "source": [
    "# Comparing Results"
   ]
  },
  {
   "cell_type": "markdown",
   "metadata": {},
   "source": [
    "Which API provided you with more complete data? Provide an explanation. "
   ]
  },
  {
   "cell_type": "markdown",
   "metadata": {},
   "source": [
    "The Yelp API had a limit constraint because I was using a free account, so I lost some data but also obtained the fields that I needed. Foursquare returned all the important fields as null.\n",
    "\n"
   ]
  },
  {
   "cell_type": "markdown",
   "metadata": {},
   "source": [
    "Get the top 10 restaurants according to their rating"
   ]
  },
  {
   "cell_type": "code",
   "execution_count": null,
   "metadata": {},
   "outputs": [],
   "source": [
    "\n",
    "top_10 = yelp_df.sort_values(by='rating', ascending=False).head(10)\n",
    "\n",
    "print(top_10['name'])"
   ]
  },
  {
   "cell_type": "markdown",
   "metadata": {},
   "source": [
    "737          Amor Aos Pedaços\n",
    "380             Lima Restobar\n",
    "1673            Saint Germain\n",
    "1258    Pedacinho do Nordeste\n",
    "1265              Hot-Dog Usp\n",
    "405         La Arena Parrilla\n",
    "1289      Supra di Mauro Maia\n",
    "1296                    Jaber\n",
    "382          Riso Restaurante\n",
    "1302                 Moa Café\n",
    "Name: name, dtype: object"
   ]
  }
 ],
 "metadata": {
  "kernelspec": {
   "display_name": "test_env",
   "language": "python",
   "name": "test_env"
  },
  "language_info": {
   "codemirror_mode": {
    "name": "ipython",
    "version": 3
   },
   "file_extension": ".py",
   "mimetype": "text/x-python",
   "name": "python",
   "nbconvert_exporter": "python",
   "pygments_lexer": "ipython3",
   "version": "3.12.7"
  }
 },
 "nbformat": 4,
 "nbformat_minor": 4
}
